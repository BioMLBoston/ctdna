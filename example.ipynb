{
 "cells": [
  {
   "cell_type": "code",
   "execution_count": 1,
   "metadata": {},
   "outputs": [],
   "source": [
    "import numpy as np\n",
    "\n",
    "from ctdna.detection import compute_pval_th, calculate_sensitivity\n",
    "from ctdna.utils import diameter_cells, cells_diameter, calculate_elimination_rate\n",
    "import ctdna.settings as settings\n",
    "from rll.plotting import plot_xy"
   ]
  },
  {
   "cell_type": "code",
   "execution_count": 2,
   "metadata": {},
   "outputs": [],
   "source": [
    "import logging\n",
    "# get logger\n",
    "logger = logging.getLogger('ctdna')\n",
    "logger.setLevel(logging.WARNING)"
   ]
  },
  {
   "cell_type": "markdown",
   "metadata": {},
   "source": [
    "## Calculating the probability to detect a specific point mutation in ctDNA for tumors with a given size and for different specificities"
   ]
  },
  {
   "cell_type": "code",
   "execution_count": 3,
   "metadata": {},
   "outputs": [
    {
     "name": "stdout",
     "output_type": "stream",
     "text": [
      "Detection probabilities for 99% specificity in tumors of sizes: 17.6% (1.0 cm; 5.2e+08), 33.6% (1.2 cm; 1.0e+09), 56.0% (1.5 cm; 1.8e+09), 90.7% (2.0 cm; 4.2e+09)\n"
     ]
    }
   ],
   "source": [
    "# lung cancer\n",
    "b_lung = 0.14  # cell birth rate\n",
    "d_lung = 0.136  # cell death rate\n",
    "q_d_lung = 1.4e-4  # shedding probability\n",
    "\n",
    "fpr = 0.01  # false positive rate (1 - specificity)\n",
    "seq_err = 1e-5  # sequencing error rate\n",
    "\n",
    "# convert cfDNA half-life time in minutes to an elimination rate per day\n",
    "t12_cfdna_mins = 30\n",
    "epsilon = calculate_elimination_rate(t12_cfdna_mins)\n",
    "\n",
    "# parameters for the gamma-distributed plasma DNA concentrations\n",
    "dna_conc_gamma_params = settings.FIT_GAMMA_PARAMS\n",
    "\n",
    "seq_eff = 0.5  # sequencing efficiency\n",
    "panel_size = 1  # consider exactly one actionable mutation\n",
    "n_det_muts = 1  # number of called mutations required for detection\n",
    "n_muts_cancer = n_det_muts  # actionable mutation is present in the cancer cells\n",
    "\n",
    "# translate tumor diameters [cm] into number of cells\n",
    "tumor_sizes = np.array([diameter_cells(1), 1e9, diameter_cells(1.5), diameter_cells(2)])\n",
    "\n",
    "# calculate a threshold to call a mutation such that a given false positive rate is achieved\n",
    "pval_th = compute_pval_th(\n",
    "    fpr, panel_size, seq_err, seq_eff, dna_conc_gamma_params, epsilon=epsilon)\n",
    "\n",
    "# calculate the probability to detect a mutation of tumors with different sizes\n",
    "det_probs = calculate_sensitivity(\n",
    "    b_lung, d_lung, q_d_lung, epsilon, n_det_muts, panel_size, n_muts_cancer,\n",
    "    pval_th=pval_th, dna_conc_gamma_params=dna_conc_gamma_params,\n",
    "    seq_err=seq_err, seq_eff=seq_eff, tumor_sizes=tumor_sizes)\n",
    "\n",
    "diameters = [cells_diameter(size) for size in tumor_sizes]\n",
    "print('Detection probabilities for 99% specificity in tumors of sizes: '\n",
    "      + ', '.join(f'{p:.1%} ({d:.1f} cm; {c:.1e})' for p, c, d in zip(det_probs, tumor_sizes, diameters)))"
   ]
  },
  {
   "cell_type": "code",
   "execution_count": 4,
   "metadata": {},
   "outputs": [
    {
     "data": {
      "image/png": "[encoded data removed]",
      "text/plain": [
       "<Figure size 259.2x194.4 with 1 Axes>"
      ]
     },
     "metadata": {
      "needs_background": "light"
     },
     "output_type": "display_data"
    }
   ],
   "source": [
    "# array of tumor diameters\n",
    "diameters = np.linspace(0.0, 3, 31)\n",
    "# translate tumor diameters [cm] into number of cells\n",
    "tumor_sizes = np.array([diameter_cells(d) for d in diameters])\n",
    "\n",
    "fprs = [0.05, 0.01]\n",
    "labels = []\n",
    "det_probs = np.zeros((len(fprs), len(diameters)))\n",
    "\n",
    "for i, fpr in enumerate(fprs):\n",
    "    \n",
    "    labels.append(f'{1.0-fpr:.0%} specificity')\n",
    "    \n",
    "    # calculate a threshold to call a mutation such that a given false positive rate is achieved\n",
    "    pval_th = compute_pval_th(\n",
    "        fpr, panel_size, seq_err, seq_eff, dna_conc_gamma_params, epsilon=epsilon)\n",
    "\n",
    "    # calculate the probability to detect a mutation of tumors with different sizes\n",
    "    det_probs[i, :] = calculate_sensitivity(\n",
    "        b_lung, d_lung, q_d_lung, epsilon, n_det_muts, panel_size, n_muts_cancer,\n",
    "        pval_th=pval_th, dna_conc_gamma_params=dna_conc_gamma_params,\n",
    "        seq_err=seq_err, seq_eff=seq_eff, tumor_sizes=tumor_sizes)\n",
    "\n",
    "# plot probabilities\n",
    "xlim = (diameters[0], diameters[-1])\n",
    "ylim = (0, 1)\n",
    "xlabel = 'Tumor diameter [cm]'\n",
    "ylabel = 'Detection probability'\n",
    "title = 'Detecting a specific point mutation'\n",
    "plot_xy(diameters, det_probs, xlim=xlim, ylim=ylim, \n",
    "        xlabel=xlabel, ylabel=ylabel, title=title, colors=['firebrick', 'dodgerblue'], \n",
    "        labels=labels, legend_loc=4,\n",
    "       );"
   ]
  },
  {
   "cell_type": "code",
   "execution_count": null,
   "metadata": {},
   "outputs": [],
   "source": []
  }
 ],
 "metadata": {
  "kernelspec": {
   "display_name": "Python 3",
   "language": "python",
   "name": "python3"
  },
  "language_info": {
   "codemirror_mode": {
    "name": "ipython",
    "version": 3
   },
   "file_extension": ".py",
   "mimetype": "text/x-python",
   "name": "python",
   "nbconvert_exporter": "python",
   "pygments_lexer": "ipython3",
   "version": "3.6.10"
  }
 },
 "nbformat": 4,
 "nbformat_minor": 4
}
